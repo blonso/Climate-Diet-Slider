{
 "cells": [
  {
   "attachments": {},
   "cell_type": "markdown",
   "metadata": {},
   "source": [
    "### Climate Diet Slider ###\n",
    "This notebook contains the code to create a slider to show the sensitivity of a vegan diet on carbon equivalent emissions. \n",
    "The calculations performed assume the world is already 3% vegan, which is a bit of an underestimate because a good portion of the world is vegetarian or at least flexitarian. While this builds some conservatism into the data presented, there is some unconservatism due to the fact that calories are essentially being erased. I would be interested in adding to this a factor for increasing emissions of other areas of the world due to a reduction in dependence on animal calories. However, the point of this is to show the general trend, and just how much is at stake.\n",
    "\n",
    "The data is from 2018 and can be found here: https://ourworldindata.org/food-ghg-emissions."
   ]
  },
  {
   "cell_type": "code",
   "execution_count": 10,
   "metadata": {},
   "outputs": [],
   "source": [
    "import pandas as pd\n",
    "\n",
    "# Normal diet emissions, where ~3% of the world is already vegan.\n",
    "normal_pct = pd.Series(\n",
    "    {\n",
    "        'Supply Chain': 0.18,\n",
    "        'Livestock': 0.31,\n",
    "        'Animal Feed': 0.06,\n",
    "        'Human Feed': 0.21,\n",
    "        'Livestock Land Use': 0.16,\n",
    "        'Human Food Land Use': 0.08\n",
    "    }, name='Normal Diet Emissions Breakdown'\n",
    ")\n",
    "\n",
    "vegan_pct = pd.Series(\n",
    "    {\n",
    "        'Supply Chain': 0.18,\n",
    "        'Livestock': 0,\n",
    "        'Animal Feed': 0,\n",
    "        'Human Feed': 0.21,\n",
    "        'Livestock Land Use': 0,\n",
    "        'Human Food Land Use': 0.08\n",
    "    }, name='WFPB Diet Emissions Breakdown'\n",
    ")\n",
    "\n",
    "df = pd.DataFrame([normal_pct, vegan_pct]).T\n",
    "\n",
    "# calculate the percent difference between the two diets\n",
    "df['Percent Difference'] = (df['WFPB Diet Emissions Breakdown'] - df['Normal Diet Emissions Breakdown']) / df['Normal Diet Emissions Breakdown']\n",
    "\n",
    "# convert the normal diet to MMT CO2e\n",
    "PCT_FOOD_EMISSIONS_2018 = 0.26\n",
    "KG_CO2E_GLOBAL_EMISSIONS_2018 = 52300 * 10**6 * 10**3\n",
    "df['Normal Diet Emissions'] = df['Normal Diet Emissions Breakdown'] * PCT_FOOD_EMISSIONS_2018 * KG_CO2E_GLOBAL_EMISSIONS_2018\n",
    "\n",
    "# divide by the population of the world in 2018\n",
    "df['Normal Diet Emissions'] = df['Normal Diet Emissions'] / (7.6 * 10**9)\n",
    "\n",
    "# Based on the percent difference, calculate the vegan diet emissions\n",
    "df['WFPB Diet Emissions'] = df['Normal Diet Emissions'] * (1 + df['Percent Difference'])\n",
    "\n",
    "# Calculate the emissions of an 80% vegan diet\n",
    "df['80% Vegan Diet Emissions'] = df['Normal Diet Emissions'] * (1 + df['Percent Difference'] * 0.8)\n",
    "\n",
    "# Create a new dataframe with the emissions data ranging from 0 to 80% vegan, in steps of 1%\n",
    "slider_df = pd.DataFrame(index=pd.Series(range(0, 81), name='Percent Vegan'))\n",
    "slider_df['Supply Chain'] = df['Normal Diet Emissions']['Supply Chain'] * (1 + df['Percent Difference']['Supply Chain'] * (slider_df.index / 100))\n",
    "slider_df['Livestock'] = df['Normal Diet Emissions']['Livestock'] * (1 + df['Percent Difference']['Livestock'] * (slider_df.index / 100))\n",
    "slider_df['Animal Feed'] = df['Normal Diet Emissions']['Animal Feed'] * (1 + df['Percent Difference']['Animal Feed'] * (slider_df.index / 100))\n",
    "slider_df['Human Feed'] = df['Normal Diet Emissions']['Human Feed'] * (1 + df['Percent Difference']['Human Feed'] * (slider_df.index / 100))\n",
    "slider_df['Livestock Land Use'] = df['Normal Diet Emissions']['Livestock Land Use'] * (1 + df['Percent Difference']['Livestock Land Use'] * (slider_df.index / 100))\n",
    "slider_df['Human Food Land Use'] = df['Normal Diet Emissions']['Human Food Land Use'] * (1 + df['Percent Difference']['Human Food Land Use'] * (slider_df.index / 100))\n",
    "\n",
    "# Offset the data so that the first index corresponds to 3% vegan\n",
    "slider_df.index = (slider_df.index + 3) / 100\n",
    "\n",
    "# Truncate the data at 80% vegan\n",
    "slider_df = slider_df[:80]\n",
    "\n",
    "# Transform the data into a format that can be used by the slider\n",
    "slider_df = slider_df.stack().reset_index()\n",
    "slider_df.columns = ['Percent Vegan', 'Emission Type', 'Emissions']\n"
   ]
  },
  {
   "cell_type": "code",
   "execution_count": 11,
   "metadata": {},
   "outputs": [
    {
     "data": {
      "text/markdown": [
       "Uploading report and associated data - *please wait...*"
      ],
      "text/plain": [
       "<IPython.core.display.Markdown object>"
      ]
     },
     "metadata": {},
     "output_type": "display_data"
    },
    {
     "name": "stderr",
     "output_type": "stream",
     "text": [
      "/Users/brianalonso/opt/anaconda3/envs/python310/lib/python3.10/site-packages/altair/utils/core.py:283: FutureWarning: iteritems is deprecated and will be removed in a future version. Use .items instead.\n",
      "  for col_name, dtype in df.dtypes.iteritems():\n"
     ]
    },
    {
     "data": {
      "text/markdown": [
       "Report successfully uploaded - view and share at <a href='https://cloud.datapane.com/reports/VkBXDP3/climatedietslider/' target='_blank'>here</a>."
      ],
      "text/plain": [
       "<IPython.core.display.Markdown object>"
      ]
     },
     "metadata": {},
     "output_type": "display_data"
    },
    {
     "data": {
      "text/plain": [
       "Uploaded Report - view at https://cloud.datapane.com/reports/VkBXDP3/climatedietslider/"
      ]
     },
     "execution_count": 11,
     "metadata": {},
     "output_type": "execute_result"
    }
   ],
   "source": [
    "import altair as alt\n",
    "import datapane as dp\n",
    "\n",
    "# Create a slider chart where you can select the percent vegan (the slider_df index)\n",
    "slider = alt.binding_range(min=0.03, max=0.80, step=0.01, name='Percent Whole Foods Plant Based Diets')\n",
    "select_percent_vegan = alt.selection_single(name='Select', fields=['Percent Vegan'], bind=slider, init={'Percent Vegan': 0.03})\n",
    "\n",
    "# plot slider_df where the x axis is percent vegan and the y axis is the emissions for each category\n",
    "diet_chart = alt.Chart(slider_df).mark_bar(size=100).encode(\n",
    "    x=alt.X('Percent Vegan:Q', axis=alt.Axis(title='Percent Whole Food Plant Based Diets', format='%'), scale=alt.Scale(zero=False)),\n",
    "    y=alt.Y('sum(Emissions):Q', axis=alt.Axis(title='Yearly Emissions (kg CO₂e)'), scale=alt.Scale(domain=(0, 1800))),\n",
    "    color=alt.Color('Emission Type', legend=alt.Legend(title='Emission Type')),\n",
    "    order=alt.Order('Emissions:O', sort='descending'),\n",
    "    tooltip=[\n",
    "        'Emission Type',\n",
    "        alt.Tooltip('Emissions', format='.0f', title='Yearly Emissions (kg CO₂e)'),\n",
    "    ]\n",
    ").properties(\n",
    "    width=400,\n",
    "    height=400,\n",
    "    title={\n",
    "            'text': ['Food Emissions of the Average Person'],\n",
    "            'subtitle': ['Varying Percent of the World following a WFPB diet'],\n",
    "            'subtitleColor': 'gray',\n",
    "           }\n",
    ").add_selection(\n",
    "    select_percent_vegan\n",
    ").transform_filter(\n",
    "    select_percent_vegan\n",
    ")\n",
    "\n",
    "# Upload the chart to datapane\n",
    "dp.upload_report(\n",
    "    [\n",
    "        dp.Plot(diet_chart.resolve_scale(color='independent')),\n",
    "    ],\n",
    "    name='ClimateDietSlider',\n",
    "    visibility='PUBLIC',\n",
    "    responsive=False,\n",
    "    scale_factor=2,\n",
    ")"
   ]
  }
 ],
 "metadata": {
  "kernelspec": {
   "display_name": "python310",
   "language": "python",
   "name": "python3"
  },
  "language_info": {
   "codemirror_mode": {
    "name": "ipython",
    "version": 3
   },
   "file_extension": ".py",
   "mimetype": "text/x-python",
   "name": "python",
   "nbconvert_exporter": "python",
   "pygments_lexer": "ipython3",
   "version": "3.10.9 (main, Jan 11 2023, 09:18:20) [Clang 14.0.6 ]"
  },
  "orig_nbformat": 4,
  "vscode": {
   "interpreter": {
    "hash": "850df5378eb97df87e8084c9e8928a34ba87f61263866696ad56a61f44be4d78"
   }
  }
 },
 "nbformat": 4,
 "nbformat_minor": 2
}
